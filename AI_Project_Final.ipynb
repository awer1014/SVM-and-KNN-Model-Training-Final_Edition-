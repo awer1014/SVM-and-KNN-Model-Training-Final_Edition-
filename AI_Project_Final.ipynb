{
  "nbformat": 4,
  "nbformat_minor": 0,
  "metadata": {
    "colab": {
      "name": "AI_Project_Final.ipynb",
      "provenance": [],
      "collapsed_sections": []
    },
    "kernelspec": {
      "name": "python3",
      "display_name": "Python 3"
    }
  },
  "cells": [
    {
      "cell_type": "code",
      "metadata": {
        "id": "K7m13-NbtIfH"
      },
      "source": [
        "# import numpy pd sklearn(scikit-learn)\r\n",
        "import numpy as np\r\n",
        "import pandas as pd\r\n",
        "from sklearn import datasets\r\n",
        "# import train_test_split from sklearn (一種分割方法)\r\n",
        "from sklearn.model_selection import train_test_split\r\n",
        "# import KNN\r\n",
        "from sklearn.neighbors import KNeighborsClassifier\r\n",
        "from sklearn.svm import LinearSVC\r\n",
        "from sklearn.svm import SVC\r\n",
        "#引入matplotlib模組\r\n",
        "import matplotlib.pyplot as plt"
      ],
      "execution_count": 35,
      "outputs": []
    },
    {
      "cell_type": "code",
      "metadata": {
        "colab": {
          "base_uri": "https://localhost:8080/"
        },
        "id": "c_0B7nC5t1F2",
        "outputId": "ca0f3786-decb-4615-aad1-833f5795d551"
      },
      "source": [
        "raw_iris = datasets.load_iris() # 將iris資料存到raw_iris\r\n",
        "# 分析 iris data 了解dataset內容\r\n",
        "# 印出 key 值\r\n",
        "print(raw_iris.keys())"
      ],
      "execution_count": 36,
      "outputs": [
        {
          "output_type": "stream",
          "text": [
            "dict_keys(['data', 'target', 'target_names', 'DESCR', 'feature_names', 'filename'])\n"
          ],
          "name": "stdout"
        }
      ]
    },
    {
      "cell_type": "code",
      "metadata": {
        "id": "yGc9BTa4J8Ce"
      },
      "source": [
        "# 印出 feature 值\r\n",
        "#print(raw_iris['data'])\r\n"
      ],
      "execution_count": 37,
      "outputs": []
    },
    {
      "cell_type": "code",
      "metadata": {
        "id": "wQc8R-aJKX-N",
        "colab": {
          "base_uri": "https://localhost:8080/"
        },
        "outputId": "a4ef2627-5061-411d-f557-0a222ad38ac5"
      },
      "source": [
        "# 印出targer 對應的是三種花的類別['setosa' 'versicolor' 'virginica']\r\n",
        "print(raw_iris['target'])"
      ],
      "execution_count": 38,
      "outputs": [
        {
          "output_type": "stream",
          "text": [
            "[0 0 0 0 0 0 0 0 0 0 0 0 0 0 0 0 0 0 0 0 0 0 0 0 0 0 0 0 0 0 0 0 0 0 0 0 0\n",
            " 0 0 0 0 0 0 0 0 0 0 0 0 0 1 1 1 1 1 1 1 1 1 1 1 1 1 1 1 1 1 1 1 1 1 1 1 1\n",
            " 1 1 1 1 1 1 1 1 1 1 1 1 1 1 1 1 1 1 1 1 1 1 1 1 1 1 2 2 2 2 2 2 2 2 2 2 2\n",
            " 2 2 2 2 2 2 2 2 2 2 2 2 2 2 2 2 2 2 2 2 2 2 2 2 2 2 2 2 2 2 2 2 2 2 2 2 2\n",
            " 2 2]\n"
          ],
          "name": "stdout"
        }
      ]
    },
    {
      "cell_type": "code",
      "metadata": {
        "id": "C4NQpoB1Kkl-",
        "colab": {
          "base_uri": "https://localhost:8080/"
        },
        "outputId": "01c8e4b4-6a55-4ed6-da8b-f00dd248af77"
      },
      "source": [
        "# 印出target_names 三種花的類別->['setosa' 'versicolor' 'virginica']\r\n",
        "print(raw_iris['target_names'])"
      ],
      "execution_count": 39,
      "outputs": [
        {
          "output_type": "stream",
          "text": [
            "['setosa' 'versicolor' 'virginica']\n"
          ],
          "name": "stdout"
        }
      ]
    },
    {
      "cell_type": "code",
      "metadata": {
        "id": "pHnI3Lo0KnB7"
      },
      "source": [
        "# 印出dataset內容描述\r\n",
        "#print(raw_iris['DESCR'])"
      ],
      "execution_count": 40,
      "outputs": []
    },
    {
      "cell_type": "code",
      "metadata": {
        "id": "q_dNT9EvKo3D",
        "colab": {
          "base_uri": "https://localhost:8080/"
        },
        "outputId": "4acc305d-7487-4624-d1bc-78c08b8fceb7"
      },
      "source": [
        "# 印出feature_names(屬性名稱)['sepal length (cm)', 'sepal width (cm)', 'petal length (cm)', 'petal width (cm)']\r\n",
        "print(raw_iris['feature_names'])"
      ],
      "execution_count": 41,
      "outputs": [
        {
          "output_type": "stream",
          "text": [
            "['sepal length (cm)', 'sepal width (cm)', 'petal length (cm)', 'petal width (cm)']\n"
          ],
          "name": "stdout"
        }
      ]
    },
    {
      "cell_type": "code",
      "metadata": {
        "id": "qDl8AQCEKqzJ",
        "colab": {
          "base_uri": "https://localhost:8080/"
        },
        "outputId": "16661854-4214-470e-ed36-3fe2f062c854"
      },
      "source": [
        "# 類別種類\r\n",
        "print(np.unique(raw_iris.target))"
      ],
      "execution_count": 42,
      "outputs": [
        {
          "output_type": "stream",
          "text": [
            "[0 1 2]\n"
          ],
          "name": "stdout"
        }
      ]
    },
    {
      "cell_type": "code",
      "metadata": {
        "id": "9zQFW6qytM6O"
      },
      "source": [
        "# 利用 panda 將 data 轉成 DataFrame\r\n",
        "# data 為觀察目標變數\r\n",
        "df_X = pd.DataFrame(raw_iris.data)\r\n",
        "# target 為預測變數\r\n",
        "df_y = pd.DataFrame(raw_iris.target)\r\n",
        "\r\n",
        "# 將data分為 training data 和 testing data \r\n",
        "# test_size 為切分 training data & testing data 的比例\r\n",
        "X_train, X_test, y_train, y_test = train_test_split(df_X, df_y, test_size=0.3)"
      ],
      "execution_count": 43,
      "outputs": []
    },
    {
      "cell_type": "code",
      "metadata": {
        "id": "iHImhtEvGbiv"
      },
      "source": [
        "X_train, X_test, y_train, y_test = train_test_split(df_X, df_y, test_size=0.3)"
      ],
      "execution_count": 44,
      "outputs": []
    },
    {
      "cell_type": "code",
      "metadata": {
        "id": "mIkLqSXS7Y93"
      },
      "source": [
        "#print(df_X)"
      ],
      "execution_count": 45,
      "outputs": []
    },
    {
      "cell_type": "code",
      "metadata": {
        "id": "utC2AUaO7a_W"
      },
      "source": [
        "#print(df_y)"
      ],
      "execution_count": 46,
      "outputs": []
    },
    {
      "cell_type": "code",
      "metadata": {
        "id": "3QLIo6P_7WqX"
      },
      "source": [
        "# 印出所有dataset數量\r\n",
        "#print(len(df_y))"
      ],
      "execution_count": 47,
      "outputs": []
    },
    {
      "cell_type": "code",
      "metadata": {
        "id": "OcfSHKOFtONW"
      },
      "source": [
        "# 印出切分 y_train 的數量為所有資料集的 70%\r\n",
        "#print(y_train)"
      ],
      "execution_count": 48,
      "outputs": []
    },
    {
      "cell_type": "code",
      "metadata": {
        "id": "N6k12uHftPbm"
      },
      "source": [
        "#print(len(y_train))"
      ],
      "execution_count": 49,
      "outputs": []
    },
    {
      "cell_type": "code",
      "metadata": {
        "id": "_0iEEtRetQ-m"
      },
      "source": [
        "# 印出切分的 y_test 資料為所有dataset的 30%\r\n",
        "#print(y_test)\r\n",
        "#print(len(y_test))"
      ],
      "execution_count": 50,
      "outputs": []
    },
    {
      "cell_type": "code",
      "metadata": {
        "colab": {
          "base_uri": "https://localhost:8080/"
        },
        "id": "zOzAZWnptTb-",
        "outputId": "577891c0-9ae4-490b-d5ef-e15fc26a7255"
      },
      "source": [
        "#隱藏warning\r\n",
        "from warnings import filterwarnings\r\n",
        "filterwarnings('ignore')\r\n",
        "\r\n",
        "# 設定 LinearSVC （線性SVM）\r\n",
        "svm1 = LinearSVC(C=1.0, class_weight=None, dual=True, fit_intercept=True,\r\n",
        "          intercept_scaling=1, loss='squared_hinge', max_iter=1000,\r\n",
        "          multi_class='ovr', penalty='l2', random_state=None, tol=0.0001,\r\n",
        "          verbose=0)\r\n",
        "# 使用 fit 來建置模型，其參數接收 training data matrix, testing data array 所以進行 y_train.values.ravel() Data Frame 轉換\r\n",
        "svm1.fit(X_train, y_train.values.ravel())"
      ],
      "execution_count": 51,
      "outputs": [
        {
          "output_type": "execute_result",
          "data": {
            "text/plain": [
              "LinearSVC(C=1.0, class_weight=None, dual=True, fit_intercept=True,\n",
              "          intercept_scaling=1, loss='squared_hinge', max_iter=1000,\n",
              "          multi_class='ovr', penalty='l2', random_state=None, tol=0.0001,\n",
              "          verbose=0)"
            ]
          },
          "metadata": {
            "tags": []
          },
          "execution_count": 51
        }
      ]
    },
    {
      "cell_type": "code",
      "metadata": {
        "colab": {
          "base_uri": "https://localhost:8080/"
        },
        "id": "gGzyq4YO6FHZ",
        "outputId": "28b24ebd-634a-4b75-fcae-50978ede731b"
      },
      "source": [
        "# 設定 SVM （gamma=10）\r\n",
        "svm2 = SVC(kernel = \"rbf\", random_state = 0, gamma = 10, C=1.0)\r\n",
        "svm2.fit(X_train, y_train.values.ravel())"
      ],
      "execution_count": 52,
      "outputs": [
        {
          "output_type": "execute_result",
          "data": {
            "text/plain": [
              "SVC(C=1.0, break_ties=False, cache_size=200, class_weight=None, coef0=0.0,\n",
              "    decision_function_shape='ovr', degree=3, gamma=10, kernel='rbf',\n",
              "    max_iter=-1, probability=False, random_state=0, shrinking=True, tol=0.001,\n",
              "    verbose=False)"
            ]
          },
          "metadata": {
            "tags": []
          },
          "execution_count": 52
        }
      ]
    },
    {
      "cell_type": "code",
      "metadata": {
        "colab": {
          "base_uri": "https://localhost:8080/"
        },
        "id": "7bptdPAH6QPK",
        "outputId": "c5e351cd-cdf2-4e45-cf02-edc4157e37e7"
      },
      "source": [
        "# 設定 SVM （gamma=100）\r\n",
        "svm3 = SVC(kernel = \"rbf\", random_state = 0, gamma = 100, C=1.0)\r\n",
        "svm3.fit(X_train, y_train.values.ravel())"
      ],
      "execution_count": 53,
      "outputs": [
        {
          "output_type": "execute_result",
          "data": {
            "text/plain": [
              "SVC(C=1.0, break_ties=False, cache_size=200, class_weight=None, coef0=0.0,\n",
              "    decision_function_shape='ovr', degree=3, gamma=100, kernel='rbf',\n",
              "    max_iter=-1, probability=False, random_state=0, shrinking=True, tol=0.001,\n",
              "    verbose=False)"
            ]
          },
          "metadata": {
            "tags": []
          },
          "execution_count": 53
        }
      ]
    },
    {
      "cell_type": "code",
      "metadata": {
        "colab": {
          "base_uri": "https://localhost:8080/"
        },
        "id": "BZhNxOGltV0O",
        "outputId": "d75d29e5-e449-4b17-b265-ba8ce8c6eecf"
      },
      "source": [
        "# 設定 KNN ，鄰近值為3\r\n",
        "knn1 = KNeighborsClassifier(algorithm='auto', leaf_size=30, metric='minkowski',\r\n",
        "                     metric_params=None, n_jobs=None, n_neighbors=3, p=2,\r\n",
        "                     weights='uniform')\r\n",
        "\r\n",
        "# 使用 fit 來建置模型，其參數接收 training data matrix, testing data array 所以進行 y_train.values.ravel() 轉換\r\n",
        "knn1.fit(X_train, y_train.values.ravel())"
      ],
      "execution_count": 54,
      "outputs": [
        {
          "output_type": "execute_result",
          "data": {
            "text/plain": [
              "KNeighborsClassifier(algorithm='auto', leaf_size=30, metric='minkowski',\n",
              "                     metric_params=None, n_jobs=None, n_neighbors=3, p=2,\n",
              "                     weights='uniform')"
            ]
          },
          "metadata": {
            "tags": []
          },
          "execution_count": 54
        }
      ]
    },
    {
      "cell_type": "code",
      "metadata": {
        "colab": {
          "base_uri": "https://localhost:8080/"
        },
        "id": "zRhS-c59-nbY",
        "outputId": "fc306f63-0c5e-4a33-c801-d161a3a5b80f"
      },
      "source": [
        "# 設定 KNN ，鄰近值為5\r\n",
        "knn2 = KNeighborsClassifier(algorithm='auto', leaf_size=30, metric='minkowski',\r\n",
        "                     metric_params=None, n_jobs=None, n_neighbors=5, p=2,\r\n",
        "                     weights='uniform')\r\n",
        "\r\n",
        "# 使用 fit 來建置模型，其參數接收 training data matrix, testing data array 所以進行 y_train.values.ravel() 轉換\r\n",
        "knn2.fit(X_train, y_train.values.ravel())"
      ],
      "execution_count": 55,
      "outputs": [
        {
          "output_type": "execute_result",
          "data": {
            "text/plain": [
              "KNeighborsClassifier(algorithm='auto', leaf_size=30, metric='minkowski',\n",
              "                     metric_params=None, n_jobs=None, n_neighbors=5, p=2,\n",
              "                     weights='uniform')"
            ]
          },
          "metadata": {
            "tags": []
          },
          "execution_count": 55
        }
      ]
    },
    {
      "cell_type": "code",
      "metadata": {
        "colab": {
          "base_uri": "https://localhost:8080/"
        },
        "id": "cm6rw1X-BEHP",
        "outputId": "72d09665-0b8b-486d-de6a-d71b42f75cb8"
      },
      "source": [
        "# 設定 KNN ，鄰近值為7\r\n",
        "knn3 = KNeighborsClassifier(algorithm='auto', leaf_size=30, metric='minkowski',\r\n",
        "                     metric_params=None, n_jobs=None, n_neighbors=7, p=2,\r\n",
        "                     weights='uniform')\r\n",
        "\r\n",
        "# 使用 fit 來建置模型，其參數接收 training data matrix, testing data array 所以進行 y_train.values.ravel() 轉換\r\n",
        "knn3.fit(X_train, y_train.values.ravel())"
      ],
      "execution_count": 56,
      "outputs": [
        {
          "output_type": "execute_result",
          "data": {
            "text/plain": [
              "KNeighborsClassifier(algorithm='auto', leaf_size=30, metric='minkowski',\n",
              "                     metric_params=None, n_jobs=None, n_neighbors=7, p=2,\n",
              "                     weights='uniform')"
            ]
          },
          "metadata": {
            "tags": []
          },
          "execution_count": 56
        }
      ]
    },
    {
      "cell_type": "code",
      "metadata": {
        "id": "FSBaM5Q5tYR0"
      },
      "source": [
        "# 用 X_test 來預測結果\r\n",
        "#print(lin_clf.predict(X_test))"
      ],
      "execution_count": 57,
      "outputs": []
    },
    {
      "cell_type": "code",
      "metadata": {
        "colab": {
          "base_uri": "https://localhost:8080/"
        },
        "id": "1TLJyWjXtaDu",
        "outputId": "232515f0-afad-4406-9fff-0561f6f7c8f7"
      },
      "source": [
        "# 印出LinearSVC預測準確率\r\n",
        "print(lin_clf.score(X_test, y_test))"
      ],
      "execution_count": 58,
      "outputs": [
        {
          "output_type": "stream",
          "text": [
            "0.9555555555555556\n"
          ],
          "name": "stdout"
        }
      ]
    },
    {
      "cell_type": "code",
      "metadata": {
        "id": "MuzDoqcEtbce"
      },
      "source": [
        "# 用 X_test 來預測結果\r\n",
        "#print(knn1.predict(X_test))"
      ],
      "execution_count": 59,
      "outputs": []
    },
    {
      "cell_type": "code",
      "metadata": {
        "id": "gR6GNnZf_NxY"
      },
      "source": [
        "# 用 X_test 來預測結果\r\n",
        "#print(knn2.predict(X_test))"
      ],
      "execution_count": 60,
      "outputs": []
    },
    {
      "cell_type": "code",
      "metadata": {
        "id": "XpL88zLptc4a"
      },
      "source": [
        "# 印出 testing data 預測標籤機率\r\n",
        "#print(knn.predict_proba(X_test))"
      ],
      "execution_count": 61,
      "outputs": []
    },
    {
      "cell_type": "code",
      "metadata": {
        "colab": {
          "base_uri": "https://localhost:8080/"
        },
        "id": "-kwCzf_MterY",
        "outputId": "34c06fbc-4d0f-45f9-e132-df4d5b2a0ae0"
      },
      "source": [
        "# 印出KNN預測準確率\r\n",
        "print(knn1.score(X_test, y_test))"
      ],
      "execution_count": 62,
      "outputs": [
        {
          "output_type": "stream",
          "text": [
            "0.9111111111111111\n"
          ],
          "name": "stdout"
        }
      ]
    },
    {
      "cell_type": "code",
      "metadata": {
        "colab": {
          "base_uri": "https://localhost:8080/"
        },
        "id": "gHbArdmI9eil",
        "outputId": "0d1b204e-40f7-4b94-9c2e-a1c5135809c1"
      },
      "source": [
        "print(knn2.score(X_test,y_test))"
      ],
      "execution_count": 63,
      "outputs": [
        {
          "output_type": "stream",
          "text": [
            "0.9555555555555556\n"
          ],
          "name": "stdout"
        }
      ]
    },
    {
      "cell_type": "code",
      "metadata": {
        "colab": {
          "base_uri": "https://localhost:8080/"
        },
        "id": "DE4xs9eQBTTX",
        "outputId": "31f6e4c2-ee97-4789-c16c-98d423ec1c22"
      },
      "source": [
        "print(knn3.score(X_test,y_test))"
      ],
      "execution_count": 64,
      "outputs": [
        {
          "output_type": "stream",
          "text": [
            "1.0\n"
          ],
          "name": "stdout"
        }
      ]
    },
    {
      "cell_type": "code",
      "metadata": {
        "id": "FZonujx2CQSt"
      },
      "source": [
        "def loop_test():\r\n",
        "  svm1_sum = 0\r\n",
        "  svm1_max = 0\r\n",
        "  svm1_min = 1\r\n",
        "\r\n",
        "  svm2_sum = 0\r\n",
        "  svm2_max = 0\r\n",
        "  svm2_min = 1\r\n",
        "\r\n",
        "  svm3_sum = 0\r\n",
        "  svm3_max = 0\r\n",
        "  svm3_min = 1\r\n",
        "\r\n",
        "  k1_sum = 0\r\n",
        "  k1_max = 0\r\n",
        "  k1_min = 1\r\n",
        "\r\n",
        "  k2_sum = 0\r\n",
        "  k2_max = 0\r\n",
        "  k2_min = 1\r\n",
        "\r\n",
        "\r\n",
        "  k3_sum = 0\r\n",
        "  k3_max = 0\r\n",
        "  k3_min = 1\r\n",
        "\r\n",
        "  svm1_list = []\r\n",
        "  svm2_list = []\r\n",
        "  svm3_list = []\r\n",
        "\r\n",
        "  k1_list = []\r\n",
        "  k2_list = []\r\n",
        "  k3_list = []\r\n",
        "\r\n",
        "  n = int(input(\"Test time:\"))\r\n",
        "  for i in range(n):\r\n",
        "    X_train, X_test, y_train, y_test = train_test_split(df_X, df_y, test_size=0.3)\r\n",
        "\r\n",
        "\r\n",
        "    #SVM數據收集\r\n",
        "    svm1.fit(X_train, y_train.values.ravel())\r\n",
        "    svm2.fit(X_train, y_train.values.ravel())\r\n",
        "    svm3.fit(X_train, y_train.values.ravel())\r\n",
        "    svm1_temp = svm1.score(X_test, y_test)\r\n",
        "    svm2_temp = svm2.score(X_test, y_test)\r\n",
        "    svm3_temp = svm3.score(X_test, y_test)\r\n",
        "\r\n",
        "    svm1_list.append(svm1_temp)\r\n",
        "    svm2_list.append(svm2_temp)\r\n",
        "    svm3_list.append(svm3_temp)\r\n",
        "\r\n",
        "    svm1_sum = svm1_sum + svm1_temp\r\n",
        "    if (svm1_max < svm1_temp):\r\n",
        "      svm1_max = svm1_temp\r\n",
        "\r\n",
        "    if (svm1_min > svm1_temp):\r\n",
        "      svm1_min = svm1_temp \r\n",
        "    \r\n",
        "    svm2_sum = svm2_sum + svm2_temp\r\n",
        "    if (svm2_max < svm2_temp):\r\n",
        "      svm2_max = svm2_temp\r\n",
        "\r\n",
        "    if (svm2_min > svm2_temp):\r\n",
        "      svm2_min = svm2_temp \r\n",
        "\r\n",
        "    svm3_sum = svm3_sum + svm3_temp\r\n",
        "    if (svm3_max < svm3_temp):\r\n",
        "      svm3_max = svm3_temp\r\n",
        "\r\n",
        "    if (svm3_min > svm3_temp):\r\n",
        "      svm3_min = svm3_temp \r\n",
        "\r\n",
        "    #KNN數據收集\r\n",
        "    knn1.fit(X_train, y_train.values.ravel())\r\n",
        "    knn2.fit(X_train, y_train.values.ravel())\r\n",
        "    knn3.fit(X_train, y_train.values.ravel())\r\n",
        "\r\n",
        "    k1_temp = knn1.score(X_test, y_test)\r\n",
        "    k1_list.append(k1_temp)\r\n",
        "\r\n",
        "    k2_temp = knn2.score(X_test, y_test)\r\n",
        "    k2_list.append(k2_temp)\r\n",
        "\r\n",
        "    k3_temp = knn3.score(X_test, y_test)\r\n",
        "    k3_list.append(k3_temp)\r\n",
        "\r\n",
        "    k1_sum = k1_sum + k1_temp\r\n",
        "    if (k1_max < k1_temp):\r\n",
        "      k1_max = k1_temp\r\n",
        "\r\n",
        "    if (k1_min > k1_temp):\r\n",
        "      k1_min = k1_temp\r\n",
        "\r\n",
        "    k2_sum = k2_sum + k2_temp\r\n",
        "    if (k2_max < k2_temp):\r\n",
        "      k2_max = k2_temp\r\n",
        "\r\n",
        "    if (k2_min > k2_temp):\r\n",
        "      k2_min = k2_temp\r\n",
        "\r\n",
        "    k3_sum = k3_sum + k3_temp\r\n",
        "    if (k3_max < k3_temp):\r\n",
        "      k3_max = k3_temp\r\n",
        "\r\n",
        "    if (k3_min > k3_temp):\r\n",
        "      k3_min = k3_temp\r\n",
        "\r\n",
        "    #利用plt畫圖 \r\n",
        "    #xpt = range(1, n) \r\n",
        "    #ypt_svm = [svm_temp] # svm result\r\n",
        "    #ypt_k1 = [k1_temp] # k1 result k = 3\r\n",
        "    #ypt_k2 = [k2_temp] # k2 result k = 5\r\n",
        "    #ypt_k3 = [k3_temp] # k3 result k = 7\r\n",
        "\r\n",
        "    #use plt to draw line\r\n",
        "    #plt.plot(xpt, ypt_svm, 'r', xpt, ypt_k1, 'g', xpt, ypt_k2, 'b', xpt, ypt_k3, 'k')\r\n",
        "\r\n",
        "    #plt.plot(xpt,ypt_svm)\r\n",
        "    #plt.plot(xpt,ypt_k1)\r\n",
        "    #plt.plot(xpt,ypt_k2)\r\n",
        "    #plt.plot(xpt,ypt_k3)\r\n",
        "\r\n",
        "\r\n",
        "  print(\"SVM1平均準確度:\", svm1_sum/n)\r\n",
        "  print(\"SVM1最大準確度:\", svm1_max)\r\n",
        "  print(\"SVM1最小準確度:\", svm1_min)\r\n",
        "  print(\" \")\r\n",
        "  print(\"SVM2平均準確度:\", svm2_sum/n)\r\n",
        "  print(\"SVM2最大準確度:\", svm2_max)\r\n",
        "  print(\"SVM2最小準確度:\", svm2_min)\r\n",
        "  print(\" \")\r\n",
        "  print(\"SVM3平均準確度:\", svm3_sum/n)\r\n",
        "  print(\"SVM3最大準確度:\", svm3_max)\r\n",
        "  print(\"SVM3最小準確度:\", svm3_min)\r\n",
        "  print(\" \")\r\n",
        "  print(\"KNN1平均準確度:\", k1_sum/n)\r\n",
        "  print(\"KNN1最大準確度:\", k1_max)\r\n",
        "  print(\"KNN1最小準確度:\", k1_min)\r\n",
        "  print(\" \")\r\n",
        "  print(\"KNN2平均準確度:\", k2_sum/n)\r\n",
        "  print(\"KNN2最大準確度:\", k2_max)\r\n",
        "  print(\"KNN2最小準確度:\", k2_min)\r\n",
        "  print(\" \")\r\n",
        "  print(\"KNN3平均準確度:\", k3_sum/n) \r\n",
        "  print(\"KNN3最大準確度:\", k3_max)\r\n",
        "  print(\"KNN3最小準確度:\", k3_min) \r\n",
        "  \r\n",
        "  \r\n",
        "  #利用plt畫圖 \r\n",
        "  xpt = range(1, n) \r\n",
        "  #ypt_svm = [svm_temp] # svm result\r\n",
        "  #ypt_k1 = [k1_temp] # k1 result k = 3\r\n",
        "  #ypt_k2 = [k2_temp] # k2 result k = 5\r\n",
        "  #ypt_k3 = [k3_temp] # k3 result k = 7\r\n",
        "\r\n",
        "  #use plt to draw line\r\n",
        "  #plt.plot(xpt, svm_list, 'r', xpt, k1_list, 'g', xpt, k2_list, 'b', xpt, k3_list, 'k')\r\n",
        "\r\n",
        "  plt.plot(xpt,svm1_list[1:n], 'r')\r\n",
        "  plt.plot(xpt,svm2_list[1:n], 'g')\r\n",
        "  plt.plot(xpt,svm3_list[1:n], 'b')\r\n",
        "  plt.plot(xpt,k1_list[1:n], 'y')\r\n",
        "  plt.plot(xpt,k2_list[1:n], 'k')\r\n",
        "  plt.plot(xpt,k3_list[1:n], 'c')\r\n",
        "  plt.xlabel(\"Times\", fontsize=16) #x軸標題\r\n",
        "  plt.ylabel(\"Accuracy\", fontsize=16) #y軸標題\r\n",
        "  \r\n",
        "  plt.show()\r\n"
      ],
      "execution_count": 65,
      "outputs": []
    },
    {
      "cell_type": "code",
      "metadata": {
        "colab": {
          "base_uri": "https://localhost:8080/",
          "height": 706
        },
        "id": "EEZLrpuVIhwI",
        "outputId": "5143c005-7d77-44bd-8f9f-2d49863f2cab"
      },
      "source": [
        "#隱藏warning\r\n",
        "from warnings import filterwarnings\r\n",
        "filterwarnings('ignore')\r\n",
        "\r\n",
        "#執行且繪圖\r\n",
        "loop_test()"
      ],
      "execution_count": 66,
      "outputs": [
        {
          "output_type": "stream",
          "text": [
            "Test time:10\n",
            "SVM1平均準確度: 0.9577777777777777\n",
            "SVM1最大準確度: 1.0\n",
            "SVM1最小準確度: 0.9111111111111111\n",
            " \n",
            "SVM2平均準確度: 0.9155555555555555\n",
            "SVM2最大準確度: 0.9555555555555556\n",
            "SVM2最小準確度: 0.8444444444444444\n",
            " \n",
            "SVM3平均準確度: 0.49555555555555547\n",
            "SVM3最大準確度: 0.6\n",
            "SVM3最小準確度: 0.28888888888888886\n",
            " \n",
            "KNN1平均準確度: 0.9733333333333334\n",
            "KNN1最大準確度: 1.0\n",
            "KNN1最小準確度: 0.9333333333333333\n",
            " \n",
            "KNN2平均準確度: 0.9711111111111113\n",
            "KNN2最大準確度: 1.0\n",
            "KNN2最小準確度: 0.9111111111111111\n",
            " \n",
            "KNN3平均準確度: 0.9733333333333334\n",
            "KNN3最大準確度: 1.0\n",
            "KNN3最小準確度: 0.9111111111111111\n"
          ],
          "name": "stdout"
        },
        {
          "output_type": "display_data",
          "data": {
            "image/png": "[encoded data removed]",
            "text/plain": [
              "<Figure size 432x288 with 1 Axes>"
            ]
          },
          "metadata": {
            "tags": [],
            "needs_background": "light"
          }
        }
      ]
    },
    {
      "cell_type": "code",
      "metadata": {
        "id": "d6e-TMN5pYoo"
      },
      "source": [
        ""
      ],
      "execution_count": 66,
      "outputs": []
    }
  ]
}